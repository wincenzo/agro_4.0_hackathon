{
  "nbformat": 4,
  "nbformat_minor": 0,
  "metadata": {
    "colab": {
      "name": "pesticide",
      "provenance": [],
      "collapsed_sections": []
    },
    "kernelspec": {
      "name": "python3",
      "display_name": "Python 3"
    }
  },
  "cells": [
    {
      "cell_type": "code",
      "metadata": {
        "id": "35nsZ7vn_ASi",
        "outputId": "2243bdac-e80e-4170-f903-52dc63cde2ec",
        "colab": {
          "base_uri": "https://localhost:8080/",
          "height": 314
        }
      },
      "source": [
        "!pip install category_encoders"
      ],
      "execution_count": 1,
      "outputs": [
        {
          "output_type": "stream",
          "text": [
            "Collecting category_encoders\n",
            "\u001b[?25l  Downloading https://files.pythonhosted.org/packages/44/57/fcef41c248701ee62e8325026b90c432adea35555cbc870aff9cfba23727/category_encoders-2.2.2-py2.py3-none-any.whl (80kB)\n",
            "\r\u001b[K     |████                            | 10kB 13.3MB/s eta 0:00:01\r\u001b[K     |████████▏                       | 20kB 1.7MB/s eta 0:00:01\r\u001b[K     |████████████▏                   | 30kB 2.0MB/s eta 0:00:01\r\u001b[K     |████████████████▎               | 40kB 2.4MB/s eta 0:00:01\r\u001b[K     |████████████████████▎           | 51kB 2.0MB/s eta 0:00:01\r\u001b[K     |████████████████████████▍       | 61kB 2.2MB/s eta 0:00:01\r\u001b[K     |████████████████████████████▍   | 71kB 2.5MB/s eta 0:00:01\r\u001b[K     |████████████████████████████████| 81kB 2.1MB/s \n",
            "\u001b[?25hRequirement already satisfied: patsy>=0.5.1 in /usr/local/lib/python3.6/dist-packages (from category_encoders) (0.5.1)\n",
            "Requirement already satisfied: scikit-learn>=0.20.0 in /usr/local/lib/python3.6/dist-packages (from category_encoders) (0.22.2.post1)\n",
            "Requirement already satisfied: statsmodels>=0.9.0 in /usr/local/lib/python3.6/dist-packages (from category_encoders) (0.10.2)\n",
            "Requirement already satisfied: pandas>=0.21.1 in /usr/local/lib/python3.6/dist-packages (from category_encoders) (1.1.2)\n",
            "Requirement already satisfied: scipy>=1.0.0 in /usr/local/lib/python3.6/dist-packages (from category_encoders) (1.4.1)\n",
            "Requirement already satisfied: numpy>=1.14.0 in /usr/local/lib/python3.6/dist-packages (from category_encoders) (1.18.5)\n",
            "Requirement already satisfied: six in /usr/local/lib/python3.6/dist-packages (from patsy>=0.5.1->category_encoders) (1.15.0)\n",
            "Requirement already satisfied: joblib>=0.11 in /usr/local/lib/python3.6/dist-packages (from scikit-learn>=0.20.0->category_encoders) (0.16.0)\n",
            "Requirement already satisfied: python-dateutil>=2.7.3 in /usr/local/lib/python3.6/dist-packages (from pandas>=0.21.1->category_encoders) (2.8.1)\n",
            "Requirement already satisfied: pytz>=2017.2 in /usr/local/lib/python3.6/dist-packages (from pandas>=0.21.1->category_encoders) (2018.9)\n",
            "Installing collected packages: category-encoders\n",
            "Successfully installed category-encoders-2.2.2\n"
          ],
          "name": "stdout"
        }
      ]
    },
    {
      "cell_type": "code",
      "metadata": {
        "id": "2a--pY0IG2t_",
        "outputId": "a6ca3c2c-6995-4f1c-e479-35f47a7e916b",
        "colab": {
          "base_uri": "https://localhost:8080/",
          "height": 148
        }
      },
      "source": [
        "!pip install imblearn"
      ],
      "execution_count": 2,
      "outputs": [
        {
          "output_type": "stream",
          "text": [
            "Requirement already satisfied: imblearn in /usr/local/lib/python3.6/dist-packages (0.0)\n",
            "Requirement already satisfied: imbalanced-learn in /usr/local/lib/python3.6/dist-packages (from imblearn) (0.4.3)\n",
            "Requirement already satisfied: numpy>=1.8.2 in /usr/local/lib/python3.6/dist-packages (from imbalanced-learn->imblearn) (1.18.5)\n",
            "Requirement already satisfied: scikit-learn>=0.20 in /usr/local/lib/python3.6/dist-packages (from imbalanced-learn->imblearn) (0.22.2.post1)\n",
            "Requirement already satisfied: scipy>=0.13.3 in /usr/local/lib/python3.6/dist-packages (from imbalanced-learn->imblearn) (1.4.1)\n",
            "Requirement already satisfied: joblib>=0.11 in /usr/local/lib/python3.6/dist-packages (from scikit-learn>=0.20->imbalanced-learn->imblearn) (0.16.0)\n"
          ],
          "name": "stdout"
        }
      ]
    },
    {
      "cell_type": "code",
      "metadata": {
        "id": "_yxXhJ4pjZ2O",
        "outputId": "e3cdac35-b0fd-47ad-e1eb-832678af4d8f",
        "colab": {
          "base_uri": "https://localhost:8080/",
          "height": 296
        }
      },
      "source": [
        "import pandas as pd\n",
        "import numpy as np\n",
        "from imblearn.over_sampling import RandomOverSampler\n",
        "from imblearn.ensemble import RUSBoostClassifier\n",
        "from lightgbm import plot_importance\n",
        "from lightgbm.sklearn import LGBMClassifier\n",
        "from matplotlib import pyplot as plt\n",
        "from sklearn.model_selection import cross_val_score, StratifiedKFold, train_test_split\n",
        "from sklearn.ensemble import BaggingClassifier, RandomForestClassifier \n",
        "from sklearn.tree import DecisionTreeClassifier\n",
        "from sklearn.feature_selection import SelectFromModel, RFECV\n",
        "from sklearn.inspection import permutation_importance\n",
        "from sklearn.metrics import (plot_confusion_matrix, \n",
        "                             accuracy_score, \n",
        "                             balanced_accuracy_score, \n",
        "                             log_loss, \n",
        "                             precision_score,\n",
        "                             recall_score, \n",
        "                             f1_score)\n",
        "from hyperopt import fmin, hp, Trials, tpe\n",
        "from functools import partial\n",
        "from category_encoders import LeaveOneOutEncoder, TargetEncoder\n",
        "from category_encoders.wrapper import PolynomialWrapper\n",
        "from collections import Counter\n",
        "import seaborn as sns"
      ],
      "execution_count": 3,
      "outputs": [
        {
          "output_type": "stream",
          "text": [
            "/usr/local/lib/python3.6/dist-packages/sklearn/externals/six.py:31: FutureWarning: The module is deprecated in version 0.21 and will be removed in version 0.23 since we've dropped support for Python 2.7. Please rely on the official version of six (https://pypi.org/project/six/).\n",
            "  \"(https://pypi.org/project/six/).\", FutureWarning)\n",
            "/usr/local/lib/python3.6/dist-packages/sklearn/utils/deprecation.py:144: FutureWarning: The sklearn.neighbors.base module is  deprecated in version 0.22 and will be removed in version 0.24. The corresponding classes / functions should instead be imported from sklearn.neighbors. Anything that cannot be imported from sklearn.neighbors is now part of the private API.\n",
            "  warnings.warn(message, FutureWarning)\n",
            "/usr/local/lib/python3.6/dist-packages/sklearn/utils/deprecation.py:144: FutureWarning: The sklearn.ensemble.bagging module is  deprecated in version 0.22 and will be removed in version 0.24. The corresponding classes / functions should instead be imported from sklearn.ensemble. Anything that cannot be imported from sklearn.ensemble is now part of the private API.\n",
            "  warnings.warn(message, FutureWarning)\n",
            "/usr/local/lib/python3.6/dist-packages/sklearn/utils/deprecation.py:144: FutureWarning: The sklearn.ensemble.base module is  deprecated in version 0.22 and will be removed in version 0.24. The corresponding classes / functions should instead be imported from sklearn.ensemble. Anything that cannot be imported from sklearn.ensemble is now part of the private API.\n",
            "  warnings.warn(message, FutureWarning)\n",
            "/usr/local/lib/python3.6/dist-packages/sklearn/utils/deprecation.py:144: FutureWarning: The sklearn.ensemble.forest module is  deprecated in version 0.22 and will be removed in version 0.24. The corresponding classes / functions should instead be imported from sklearn.ensemble. Anything that cannot be imported from sklearn.ensemble is now part of the private API.\n",
            "  warnings.warn(message, FutureWarning)\n",
            "/usr/local/lib/python3.6/dist-packages/sklearn/externals/joblib/__init__.py:15: FutureWarning: sklearn.externals.joblib is deprecated in 0.21 and will be removed in 0.23. Please import this functionality directly from joblib, which can be installed with: pip install joblib. If this warning is raised when loading pickled models, you may need to re-serialize those models with scikit-learn 0.21+.\n",
            "  warnings.warn(msg, category=FutureWarning)\n",
            "/usr/local/lib/python3.6/dist-packages/statsmodels/tools/_testing.py:19: FutureWarning: pandas.util.testing is deprecated. Use the functions in the public API at pandas.testing instead.\n",
            "  import pandas.util.testing as tm\n"
          ],
          "name": "stderr"
        }
      ]
    },
    {
      "cell_type": "code",
      "metadata": {
        "id": "PbLvJiFrj2To",
        "outputId": "8dec9262-c500-4d50-f7d6-53ab9da2fd77",
        "colab": {
          "base_uri": "https://localhost:8080/",
          "height": 320
        }
      },
      "source": [
        "df_trn = pd.read_csv('/content/train_yaOffsB.csv')\n",
        "df_tst = pd.read_csv('/content/test_pFkWwen.csv')\n",
        "df_sub = pd.read_csv('/content/sample_submission_O1oDc4H.csv')\n",
        "\n",
        "df_trn.describe()"
      ],
      "execution_count": 4,
      "outputs": [
        {
          "output_type": "execute_result",
          "data": {
            "text/html": [
              "<div>\n",
              "<style scoped>\n",
              "    .dataframe tbody tr th:only-of-type {\n",
              "        vertical-align: middle;\n",
              "    }\n",
              "\n",
              "    .dataframe tbody tr th {\n",
              "        vertical-align: top;\n",
              "    }\n",
              "\n",
              "    .dataframe thead th {\n",
              "        text-align: right;\n",
              "    }\n",
              "</style>\n",
              "<table border=\"1\" class=\"dataframe\">\n",
              "  <thead>\n",
              "    <tr style=\"text-align: right;\">\n",
              "      <th></th>\n",
              "      <th>Estimated_Insects_Count</th>\n",
              "      <th>Crop_Type</th>\n",
              "      <th>Soil_Type</th>\n",
              "      <th>Pesticide_Use_Category</th>\n",
              "      <th>Number_Doses_Week</th>\n",
              "      <th>Number_Weeks_Used</th>\n",
              "      <th>Number_Weeks_Quit</th>\n",
              "      <th>Season</th>\n",
              "      <th>Crop_Damage</th>\n",
              "    </tr>\n",
              "  </thead>\n",
              "  <tbody>\n",
              "    <tr>\n",
              "      <th>count</th>\n",
              "      <td>88858.000000</td>\n",
              "      <td>88858.000000</td>\n",
              "      <td>88858.000000</td>\n",
              "      <td>88858.000000</td>\n",
              "      <td>88858.000000</td>\n",
              "      <td>79858.000000</td>\n",
              "      <td>88858.000000</td>\n",
              "      <td>88858.000000</td>\n",
              "      <td>88858.000000</td>\n",
              "    </tr>\n",
              "    <tr>\n",
              "      <th>mean</th>\n",
              "      <td>1399.012210</td>\n",
              "      <td>0.284375</td>\n",
              "      <td>0.458417</td>\n",
              "      <td>2.264186</td>\n",
              "      <td>25.849952</td>\n",
              "      <td>28.623970</td>\n",
              "      <td>9.589986</td>\n",
              "      <td>1.896959</td>\n",
              "      <td>0.190562</td>\n",
              "    </tr>\n",
              "    <tr>\n",
              "      <th>std</th>\n",
              "      <td>849.048781</td>\n",
              "      <td>0.451119</td>\n",
              "      <td>0.498271</td>\n",
              "      <td>0.461772</td>\n",
              "      <td>15.554428</td>\n",
              "      <td>12.391881</td>\n",
              "      <td>9.900631</td>\n",
              "      <td>0.701322</td>\n",
              "      <td>0.454215</td>\n",
              "    </tr>\n",
              "    <tr>\n",
              "      <th>min</th>\n",
              "      <td>150.000000</td>\n",
              "      <td>0.000000</td>\n",
              "      <td>0.000000</td>\n",
              "      <td>1.000000</td>\n",
              "      <td>0.000000</td>\n",
              "      <td>0.000000</td>\n",
              "      <td>0.000000</td>\n",
              "      <td>1.000000</td>\n",
              "      <td>0.000000</td>\n",
              "    </tr>\n",
              "    <tr>\n",
              "      <th>25%</th>\n",
              "      <td>731.000000</td>\n",
              "      <td>0.000000</td>\n",
              "      <td>0.000000</td>\n",
              "      <td>2.000000</td>\n",
              "      <td>15.000000</td>\n",
              "      <td>20.000000</td>\n",
              "      <td>0.000000</td>\n",
              "      <td>1.000000</td>\n",
              "      <td>0.000000</td>\n",
              "    </tr>\n",
              "    <tr>\n",
              "      <th>50%</th>\n",
              "      <td>1212.000000</td>\n",
              "      <td>0.000000</td>\n",
              "      <td>0.000000</td>\n",
              "      <td>2.000000</td>\n",
              "      <td>20.000000</td>\n",
              "      <td>28.000000</td>\n",
              "      <td>7.000000</td>\n",
              "      <td>2.000000</td>\n",
              "      <td>0.000000</td>\n",
              "    </tr>\n",
              "    <tr>\n",
              "      <th>75%</th>\n",
              "      <td>1898.000000</td>\n",
              "      <td>1.000000</td>\n",
              "      <td>1.000000</td>\n",
              "      <td>3.000000</td>\n",
              "      <td>40.000000</td>\n",
              "      <td>37.000000</td>\n",
              "      <td>16.000000</td>\n",
              "      <td>2.000000</td>\n",
              "      <td>0.000000</td>\n",
              "    </tr>\n",
              "    <tr>\n",
              "      <th>max</th>\n",
              "      <td>4097.000000</td>\n",
              "      <td>1.000000</td>\n",
              "      <td>1.000000</td>\n",
              "      <td>3.000000</td>\n",
              "      <td>95.000000</td>\n",
              "      <td>67.000000</td>\n",
              "      <td>50.000000</td>\n",
              "      <td>3.000000</td>\n",
              "      <td>2.000000</td>\n",
              "    </tr>\n",
              "  </tbody>\n",
              "</table>\n",
              "</div>"
            ],
            "text/plain": [
              "       Estimated_Insects_Count     Crop_Type  ...        Season   Crop_Damage\n",
              "count             88858.000000  88858.000000  ...  88858.000000  88858.000000\n",
              "mean               1399.012210      0.284375  ...      1.896959      0.190562\n",
              "std                 849.048781      0.451119  ...      0.701322      0.454215\n",
              "min                 150.000000      0.000000  ...      1.000000      0.000000\n",
              "25%                 731.000000      0.000000  ...      1.000000      0.000000\n",
              "50%                1212.000000      0.000000  ...      2.000000      0.000000\n",
              "75%                1898.000000      1.000000  ...      2.000000      0.000000\n",
              "max                4097.000000      1.000000  ...      3.000000      2.000000\n",
              "\n",
              "[8 rows x 9 columns]"
            ]
          },
          "metadata": {
            "tags": []
          },
          "execution_count": 4
        }
      ]
    },
    {
      "cell_type": "code",
      "metadata": {
        "id": "dYRPVMFwrfVS"
      },
      "source": [
        "df_trn = df_trn[~((df_trn['Crop_Damage'] == 2) & (df_trn['Pesticide_Use_Category'] == 1))]"
      ],
      "execution_count": 5,
      "outputs": []
    },
    {
      "cell_type": "code",
      "metadata": {
        "id": "5-qoKzuQctK3",
        "outputId": "6f0e2b38-9339-4540-8a09-d345b1f4ce9e",
        "colab": {
          "base_uri": "https://localhost:8080/",
          "height": 592
        }
      },
      "source": [
        "plt.figure(figsize=(13,10))\n",
        "pd.plotting.radviz(df_trn.select_dtypes('number'), 'Crop_Damage', color=('yellow', 'gray', 'red'))\n",
        "plt.show()"
      ],
      "execution_count": 6,
      "outputs": [
        {
          "output_type": "display_data",
          "data": {
            "image/png": "[encoded data removed]",
            "text/plain": [
              "<Figure size 936x720 with 1 Axes>"
            ]
          },
          "metadata": {
            "tags": [],
            "needs_background": "light"
          }
        }
      ]
    },
    {
      "cell_type": "code",
      "metadata": {
        "id": "ltjC-qATi_pX",
        "outputId": "a036c27c-2f93-4392-cd59-ca73a222004e",
        "colab": {
          "base_uri": "https://localhost:8080/",
          "height": 226
        }
      },
      "source": [
        "df_trn['Test'] = 0\n",
        "df_tst['Test'] = 1\n",
        "\n",
        "df_trn.head()"
      ],
      "execution_count": 7,
      "outputs": [
        {
          "output_type": "execute_result",
          "data": {
            "text/html": [
              "<div>\n",
              "<style scoped>\n",
              "    .dataframe tbody tr th:only-of-type {\n",
              "        vertical-align: middle;\n",
              "    }\n",
              "\n",
              "    .dataframe tbody tr th {\n",
              "        vertical-align: top;\n",
              "    }\n",
              "\n",
              "    .dataframe thead th {\n",
              "        text-align: right;\n",
              "    }\n",
              "</style>\n",
              "<table border=\"1\" class=\"dataframe\">\n",
              "  <thead>\n",
              "    <tr style=\"text-align: right;\">\n",
              "      <th></th>\n",
              "      <th>ID</th>\n",
              "      <th>Estimated_Insects_Count</th>\n",
              "      <th>Crop_Type</th>\n",
              "      <th>Soil_Type</th>\n",
              "      <th>Pesticide_Use_Category</th>\n",
              "      <th>Number_Doses_Week</th>\n",
              "      <th>Number_Weeks_Used</th>\n",
              "      <th>Number_Weeks_Quit</th>\n",
              "      <th>Season</th>\n",
              "      <th>Crop_Damage</th>\n",
              "      <th>Test</th>\n",
              "    </tr>\n",
              "  </thead>\n",
              "  <tbody>\n",
              "    <tr>\n",
              "      <th>0</th>\n",
              "      <td>F00000001</td>\n",
              "      <td>188</td>\n",
              "      <td>1</td>\n",
              "      <td>0</td>\n",
              "      <td>1</td>\n",
              "      <td>0</td>\n",
              "      <td>0.0</td>\n",
              "      <td>0</td>\n",
              "      <td>1</td>\n",
              "      <td>0</td>\n",
              "      <td>0</td>\n",
              "    </tr>\n",
              "    <tr>\n",
              "      <th>1</th>\n",
              "      <td>F00000003</td>\n",
              "      <td>209</td>\n",
              "      <td>1</td>\n",
              "      <td>0</td>\n",
              "      <td>1</td>\n",
              "      <td>0</td>\n",
              "      <td>0.0</td>\n",
              "      <td>0</td>\n",
              "      <td>2</td>\n",
              "      <td>1</td>\n",
              "      <td>0</td>\n",
              "    </tr>\n",
              "    <tr>\n",
              "      <th>2</th>\n",
              "      <td>F00000004</td>\n",
              "      <td>257</td>\n",
              "      <td>1</td>\n",
              "      <td>0</td>\n",
              "      <td>1</td>\n",
              "      <td>0</td>\n",
              "      <td>0.0</td>\n",
              "      <td>0</td>\n",
              "      <td>2</td>\n",
              "      <td>1</td>\n",
              "      <td>0</td>\n",
              "    </tr>\n",
              "    <tr>\n",
              "      <th>3</th>\n",
              "      <td>F00000005</td>\n",
              "      <td>257</td>\n",
              "      <td>1</td>\n",
              "      <td>1</td>\n",
              "      <td>1</td>\n",
              "      <td>0</td>\n",
              "      <td>0.0</td>\n",
              "      <td>0</td>\n",
              "      <td>2</td>\n",
              "      <td>1</td>\n",
              "      <td>0</td>\n",
              "    </tr>\n",
              "    <tr>\n",
              "      <th>4</th>\n",
              "      <td>F00000006</td>\n",
              "      <td>342</td>\n",
              "      <td>1</td>\n",
              "      <td>0</td>\n",
              "      <td>1</td>\n",
              "      <td>0</td>\n",
              "      <td>0.0</td>\n",
              "      <td>0</td>\n",
              "      <td>2</td>\n",
              "      <td>1</td>\n",
              "      <td>0</td>\n",
              "    </tr>\n",
              "  </tbody>\n",
              "</table>\n",
              "</div>"
            ],
            "text/plain": [
              "          ID  Estimated_Insects_Count  Crop_Type  ...  Season  Crop_Damage  Test\n",
              "0  F00000001                      188          1  ...       1            0     0\n",
              "1  F00000003                      209          1  ...       2            1     0\n",
              "2  F00000004                      257          1  ...       2            1     0\n",
              "3  F00000005                      257          1  ...       2            1     0\n",
              "4  F00000006                      342          1  ...       2            1     0\n",
              "\n",
              "[5 rows x 11 columns]"
            ]
          },
          "metadata": {
            "tags": []
          },
          "execution_count": 7
        }
      ]
    },
    {
      "cell_type": "code",
      "metadata": {
        "id": "c6qWfrCJjSpF",
        "outputId": "b6b6d553-e61d-4e00-ddfb-41531119578f",
        "colab": {
          "base_uri": "https://localhost:8080/",
          "height": 226
        }
      },
      "source": [
        "df_tst.head()"
      ],
      "execution_count": 8,
      "outputs": [
        {
          "output_type": "execute_result",
          "data": {
            "text/html": [
              "<div>\n",
              "<style scoped>\n",
              "    .dataframe tbody tr th:only-of-type {\n",
              "        vertical-align: middle;\n",
              "    }\n",
              "\n",
              "    .dataframe tbody tr th {\n",
              "        vertical-align: top;\n",
              "    }\n",
              "\n",
              "    .dataframe thead th {\n",
              "        text-align: right;\n",
              "    }\n",
              "</style>\n",
              "<table border=\"1\" class=\"dataframe\">\n",
              "  <thead>\n",
              "    <tr style=\"text-align: right;\">\n",
              "      <th></th>\n",
              "      <th>ID</th>\n",
              "      <th>Estimated_Insects_Count</th>\n",
              "      <th>Crop_Type</th>\n",
              "      <th>Soil_Type</th>\n",
              "      <th>Pesticide_Use_Category</th>\n",
              "      <th>Number_Doses_Week</th>\n",
              "      <th>Number_Weeks_Used</th>\n",
              "      <th>Number_Weeks_Quit</th>\n",
              "      <th>Season</th>\n",
              "      <th>Test</th>\n",
              "    </tr>\n",
              "  </thead>\n",
              "  <tbody>\n",
              "    <tr>\n",
              "      <th>0</th>\n",
              "      <td>F00000002</td>\n",
              "      <td>188</td>\n",
              "      <td>1</td>\n",
              "      <td>1</td>\n",
              "      <td>1</td>\n",
              "      <td>0</td>\n",
              "      <td>NaN</td>\n",
              "      <td>0</td>\n",
              "      <td>2</td>\n",
              "      <td>1</td>\n",
              "    </tr>\n",
              "    <tr>\n",
              "      <th>1</th>\n",
              "      <td>F00000007</td>\n",
              "      <td>410</td>\n",
              "      <td>1</td>\n",
              "      <td>1</td>\n",
              "      <td>1</td>\n",
              "      <td>0</td>\n",
              "      <td>0.0</td>\n",
              "      <td>0</td>\n",
              "      <td>2</td>\n",
              "      <td>1</td>\n",
              "    </tr>\n",
              "    <tr>\n",
              "      <th>2</th>\n",
              "      <td>F00000011</td>\n",
              "      <td>626</td>\n",
              "      <td>1</td>\n",
              "      <td>0</td>\n",
              "      <td>1</td>\n",
              "      <td>0</td>\n",
              "      <td>0.0</td>\n",
              "      <td>0</td>\n",
              "      <td>2</td>\n",
              "      <td>1</td>\n",
              "    </tr>\n",
              "    <tr>\n",
              "      <th>3</th>\n",
              "      <td>F00000013</td>\n",
              "      <td>731</td>\n",
              "      <td>1</td>\n",
              "      <td>0</td>\n",
              "      <td>1</td>\n",
              "      <td>0</td>\n",
              "      <td>0.0</td>\n",
              "      <td>0</td>\n",
              "      <td>2</td>\n",
              "      <td>1</td>\n",
              "    </tr>\n",
              "    <tr>\n",
              "      <th>4</th>\n",
              "      <td>F00000014</td>\n",
              "      <td>789</td>\n",
              "      <td>0</td>\n",
              "      <td>0</td>\n",
              "      <td>1</td>\n",
              "      <td>0</td>\n",
              "      <td>0.0</td>\n",
              "      <td>0</td>\n",
              "      <td>1</td>\n",
              "      <td>1</td>\n",
              "    </tr>\n",
              "  </tbody>\n",
              "</table>\n",
              "</div>"
            ],
            "text/plain": [
              "          ID  Estimated_Insects_Count  ...  Season  Test\n",
              "0  F00000002                      188  ...       2     1\n",
              "1  F00000007                      410  ...       2     1\n",
              "2  F00000011                      626  ...       2     1\n",
              "3  F00000013                      731  ...       2     1\n",
              "4  F00000014                      789  ...       1     1\n",
              "\n",
              "[5 rows x 10 columns]"
            ]
          },
          "metadata": {
            "tags": []
          },
          "execution_count": 8
        }
      ]
    },
    {
      "cell_type": "code",
      "metadata": {
        "id": "PeXb3fBliSVc"
      },
      "source": [
        "#oversample = RandomOverSampler(random_state=3)\n",
        "#df_trn = oversample.fit_resample(df_trn, df_trn['Crop_Damage'])\n",
        "#df_trn.info()"
      ],
      "execution_count": null,
      "outputs": []
    },
    {
      "cell_type": "code",
      "metadata": {
        "id": "P3RcZxHvi1Bx"
      },
      "source": [
        "df = pd.concat([df_trn, df_tst], axis=0)"
      ],
      "execution_count": 9,
      "outputs": []
    },
    {
      "cell_type": "code",
      "metadata": {
        "id": "4neOijo_dQXa"
      },
      "source": [
        "#df.sort_values('Estimated_Insects_Count', inplace=True, ignore_index=True)\n",
        "#\n",
        "#for row in df[['Estimated_Insects_Count']].itertuples():\n",
        "#    if row[0] == 0:\n",
        "#        df.loc[row[0], 'Insect_Group'] = row[1]\n",
        "#        pre = row[1]\n",
        "#    \n",
        "#    else:\n",
        "#        if row[1]-pre == 1:\n",
        "#            df.loc[row[0], 'Insect_Group'] = pre\n",
        "#            \n",
        "#        \n",
        "#        else:\n",
        "#            df.loc[row[0], 'Insect_Group'] = row[1]\n",
        "#            pre = row[1]\n",
        "#"
      ],
      "execution_count": null,
      "outputs": []
    },
    {
      "cell_type": "code",
      "metadata": {
        "id": "dkiWRD9evre8",
        "outputId": "e2ca7a30-f545-4d23-ac8c-3e3eb7ba731c",
        "colab": {
          "base_uri": "https://localhost:8080/",
          "height": 35
        }
      },
      "source": [
        "#df['Insect_Group'] = df['Insect_Group'].astype(int)\n",
        "#df['Insect_Group'].unique()"
      ],
      "execution_count": null,
      "outputs": [
        {
          "output_type": "execute_result",
          "data": {
            "text/plain": [
              "46"
            ]
          },
          "metadata": {
            "tags": []
          },
          "execution_count": 12
        }
      ]
    },
    {
      "cell_type": "code",
      "metadata": {
        "id": "dT89nLm-kUpj"
      },
      "source": [
        "df.sort_values('ID', ignore_index=True, inplace=True)"
      ],
      "execution_count": 10,
      "outputs": []
    },
    {
      "cell_type": "code",
      "metadata": {
        "id": "_hYI5Tr57OsP"
      },
      "source": [
        "#group = 0\n",
        "#\n",
        "#for i in df.index:\n",
        "#    if i == 0:\n",
        "#        df.loc[i,'Group'] = 0\n",
        "#\n",
        "#    else:\n",
        "#        if df.loc[i,'Estimated_Insects_Count'] - df.loc[i-1,'Estimated_Insects_Count'] >= -1\n",
        "#            df.loc[i,'Group'] = group\n",
        "#            \n",
        "#        else:\n",
        "#            group += 1\n",
        "#            df.loc[i,'Group'] = group"
      ],
      "execution_count": null,
      "outputs": []
    },
    {
      "cell_type": "code",
      "metadata": {
        "id": "UfdGKC6KwLjL",
        "outputId": "ad492c75-6352-43c6-aba6-8f5d2dd39b1c",
        "colab": {
          "base_uri": "https://localhost:8080/",
          "height": 320
        }
      },
      "source": [
        "df.describe()"
      ],
      "execution_count": 11,
      "outputs": [
        {
          "output_type": "execute_result",
          "data": {
            "text/html": [
              "<div>\n",
              "<style scoped>\n",
              "    .dataframe tbody tr th:only-of-type {\n",
              "        vertical-align: middle;\n",
              "    }\n",
              "\n",
              "    .dataframe tbody tr th {\n",
              "        vertical-align: top;\n",
              "    }\n",
              "\n",
              "    .dataframe thead th {\n",
              "        text-align: right;\n",
              "    }\n",
              "</style>\n",
              "<table border=\"1\" class=\"dataframe\">\n",
              "  <thead>\n",
              "    <tr style=\"text-align: right;\">\n",
              "      <th></th>\n",
              "      <th>Estimated_Insects_Count</th>\n",
              "      <th>Crop_Type</th>\n",
              "      <th>Soil_Type</th>\n",
              "      <th>Pesticide_Use_Category</th>\n",
              "      <th>Number_Doses_Week</th>\n",
              "      <th>Number_Weeks_Used</th>\n",
              "      <th>Number_Weeks_Quit</th>\n",
              "      <th>Season</th>\n",
              "      <th>Crop_Damage</th>\n",
              "      <th>Test</th>\n",
              "    </tr>\n",
              "  </thead>\n",
              "  <tbody>\n",
              "    <tr>\n",
              "      <th>count</th>\n",
              "      <td>148003.000000</td>\n",
              "      <td>148003.000000</td>\n",
              "      <td>148003.000000</td>\n",
              "      <td>148003.000000</td>\n",
              "      <td>148003.000000</td>\n",
              "      <td>133137.000000</td>\n",
              "      <td>148003.000000</td>\n",
              "      <td>148003.000000</td>\n",
              "      <td>88693.000000</td>\n",
              "      <td>148003.000000</td>\n",
              "    </tr>\n",
              "    <tr>\n",
              "      <th>mean</th>\n",
              "      <td>1397.498017</td>\n",
              "      <td>0.285021</td>\n",
              "      <td>0.457072</td>\n",
              "      <td>2.265211</td>\n",
              "      <td>25.879543</td>\n",
              "      <td>28.686188</td>\n",
              "      <td>9.575988</td>\n",
              "      <td>1.898502</td>\n",
              "      <td>0.187196</td>\n",
              "      <td>0.400735</td>\n",
              "    </tr>\n",
              "    <tr>\n",
              "      <th>std</th>\n",
              "      <td>848.769816</td>\n",
              "      <td>0.451426</td>\n",
              "      <td>0.498155</td>\n",
              "      <td>0.460079</td>\n",
              "      <td>15.510034</td>\n",
              "      <td>12.375712</td>\n",
              "      <td>9.882882</td>\n",
              "      <td>0.701583</td>\n",
              "      <td>0.447876</td>\n",
              "      <td>0.490049</td>\n",
              "    </tr>\n",
              "    <tr>\n",
              "      <th>min</th>\n",
              "      <td>150.000000</td>\n",
              "      <td>0.000000</td>\n",
              "      <td>0.000000</td>\n",
              "      <td>1.000000</td>\n",
              "      <td>0.000000</td>\n",
              "      <td>0.000000</td>\n",
              "      <td>0.000000</td>\n",
              "      <td>1.000000</td>\n",
              "      <td>0.000000</td>\n",
              "      <td>0.000000</td>\n",
              "    </tr>\n",
              "    <tr>\n",
              "      <th>25%</th>\n",
              "      <td>731.000000</td>\n",
              "      <td>0.000000</td>\n",
              "      <td>0.000000</td>\n",
              "      <td>2.000000</td>\n",
              "      <td>15.000000</td>\n",
              "      <td>20.000000</td>\n",
              "      <td>0.000000</td>\n",
              "      <td>1.000000</td>\n",
              "      <td>0.000000</td>\n",
              "      <td>0.000000</td>\n",
              "    </tr>\n",
              "    <tr>\n",
              "      <th>50%</th>\n",
              "      <td>1212.000000</td>\n",
              "      <td>0.000000</td>\n",
              "      <td>0.000000</td>\n",
              "      <td>2.000000</td>\n",
              "      <td>20.000000</td>\n",
              "      <td>28.000000</td>\n",
              "      <td>7.000000</td>\n",
              "      <td>2.000000</td>\n",
              "      <td>0.000000</td>\n",
              "      <td>0.000000</td>\n",
              "    </tr>\n",
              "    <tr>\n",
              "      <th>75%</th>\n",
              "      <td>1898.000000</td>\n",
              "      <td>1.000000</td>\n",
              "      <td>1.000000</td>\n",
              "      <td>3.000000</td>\n",
              "      <td>40.000000</td>\n",
              "      <td>37.000000</td>\n",
              "      <td>16.000000</td>\n",
              "      <td>2.000000</td>\n",
              "      <td>0.000000</td>\n",
              "      <td>1.000000</td>\n",
              "    </tr>\n",
              "    <tr>\n",
              "      <th>max</th>\n",
              "      <td>4097.000000</td>\n",
              "      <td>1.000000</td>\n",
              "      <td>1.000000</td>\n",
              "      <td>3.000000</td>\n",
              "      <td>95.000000</td>\n",
              "      <td>67.000000</td>\n",
              "      <td>50.000000</td>\n",
              "      <td>3.000000</td>\n",
              "      <td>2.000000</td>\n",
              "      <td>1.000000</td>\n",
              "    </tr>\n",
              "  </tbody>\n",
              "</table>\n",
              "</div>"
            ],
            "text/plain": [
              "       Estimated_Insects_Count      Crop_Type  ...   Crop_Damage           Test\n",
              "count            148003.000000  148003.000000  ...  88693.000000  148003.000000\n",
              "mean               1397.498017       0.285021  ...      0.187196       0.400735\n",
              "std                 848.769816       0.451426  ...      0.447876       0.490049\n",
              "min                 150.000000       0.000000  ...      0.000000       0.000000\n",
              "25%                 731.000000       0.000000  ...      0.000000       0.000000\n",
              "50%                1212.000000       0.000000  ...      0.000000       0.000000\n",
              "75%                1898.000000       1.000000  ...      0.000000       1.000000\n",
              "max                4097.000000       1.000000  ...      2.000000       1.000000\n",
              "\n",
              "[8 rows x 10 columns]"
            ]
          },
          "metadata": {
            "tags": []
          },
          "execution_count": 11
        }
      ]
    },
    {
      "cell_type": "code",
      "metadata": {
        "id": "O-sGuhdOXa8T"
      },
      "source": [
        "cat_feat = ['Crop_Type', \n",
        "            'Soil_Type', \n",
        "            'Pesticide_Use_Category', \n",
        "            'Season',\n",
        "            ]\n",
        "\n",
        "df[cat_feat] = df[cat_feat].astype('str')"
      ],
      "execution_count": 12,
      "outputs": []
    },
    {
      "cell_type": "code",
      "metadata": {
        "id": "9S8PmspAWHF6"
      },
      "source": [
        "df['CSPS'] = (df['Crop_Type']+\n",
        "              df['Soil_Type']+\n",
        "              df['Pesticide_Use_Category']+\n",
        "              df['Season'])"
      ],
      "execution_count": 13,
      "outputs": []
    },
    {
      "cell_type": "code",
      "metadata": {
        "id": "i-icjP7Dcmd7"
      },
      "source": [
        "df['Doses_Ratio'] = df['Number_Doses_Week'] / df['Estimated_Insects_Count']\n",
        "df['ToT_Doses'] = df['Number_Doses_Week'] * df['Number_Weeks_Used']"
      ],
      "execution_count": 14,
      "outputs": []
    },
    {
      "cell_type": "code",
      "metadata": {
        "id": "2vPsyYg_r78k"
      },
      "source": [
        "df.drop(cat_feat, axis=1, inplace=True)"
      ],
      "execution_count": 15,
      "outputs": []
    },
    {
      "cell_type": "code",
      "metadata": {
        "id": "3PDReVQmcmWe",
        "outputId": "bd70ac57-e9d0-405d-ebbe-9ec7212758fb",
        "colab": {
          "base_uri": "https://localhost:8080/",
          "height": 165
        }
      },
      "source": [
        "features = list(df.columns)\n",
        "features.remove('ID')\n",
        "features.remove('Test')\n",
        "features"
      ],
      "execution_count": 16,
      "outputs": [
        {
          "output_type": "execute_result",
          "data": {
            "text/plain": [
              "['Estimated_Insects_Count',\n",
              " 'Number_Doses_Week',\n",
              " 'Number_Weeks_Used',\n",
              " 'Number_Weeks_Quit',\n",
              " 'Crop_Damage',\n",
              " 'CSPS',\n",
              " 'Doses_Ratio',\n",
              " 'ToT_Doses']"
            ]
          },
          "metadata": {
            "tags": []
          },
          "execution_count": 16
        }
      ]
    },
    {
      "cell_type": "code",
      "metadata": {
        "id": "7IwMuijwcmT6"
      },
      "source": [
        "for col in features:\n",
        "    for i in [-2, -1, 1, 2]:\n",
        "        df[col+'('+str(-i)+')'] = df[col].shift(periods=i)"
      ],
      "execution_count": 17,
      "outputs": []
    },
    {
      "cell_type": "code",
      "metadata": {
        "id": "aIY9IIvM6xjz",
        "outputId": "980f4ecd-d1bd-4b88-992e-b8f22d774b29",
        "colab": {
          "base_uri": "https://localhost:8080/",
          "height": 294
        }
      },
      "source": [
        "df.columns"
      ],
      "execution_count": 18,
      "outputs": [
        {
          "output_type": "execute_result",
          "data": {
            "text/plain": [
              "Index(['ID', 'Estimated_Insects_Count', 'Number_Doses_Week',\n",
              "       'Number_Weeks_Used', 'Number_Weeks_Quit', 'Crop_Damage', 'Test', 'CSPS',\n",
              "       'Doses_Ratio', 'ToT_Doses', 'Estimated_Insects_Count(2)',\n",
              "       'Estimated_Insects_Count(1)', 'Estimated_Insects_Count(-1)',\n",
              "       'Estimated_Insects_Count(-2)', 'Number_Doses_Week(2)',\n",
              "       'Number_Doses_Week(1)', 'Number_Doses_Week(-1)',\n",
              "       'Number_Doses_Week(-2)', 'Number_Weeks_Used(2)', 'Number_Weeks_Used(1)',\n",
              "       'Number_Weeks_Used(-1)', 'Number_Weeks_Used(-2)',\n",
              "       'Number_Weeks_Quit(2)', 'Number_Weeks_Quit(1)', 'Number_Weeks_Quit(-1)',\n",
              "       'Number_Weeks_Quit(-2)', 'Crop_Damage(2)', 'Crop_Damage(1)',\n",
              "       'Crop_Damage(-1)', 'Crop_Damage(-2)', 'CSPS(2)', 'CSPS(1)', 'CSPS(-1)',\n",
              "       'CSPS(-2)', 'Doses_Ratio(2)', 'Doses_Ratio(1)', 'Doses_Ratio(-1)',\n",
              "       'Doses_Ratio(-2)', 'ToT_Doses(2)', 'ToT_Doses(1)', 'ToT_Doses(-1)',\n",
              "       'ToT_Doses(-2)'],\n",
              "      dtype='object')"
            ]
          },
          "metadata": {
            "tags": []
          },
          "execution_count": 18
        }
      ]
    },
    {
      "cell_type": "code",
      "metadata": {
        "id": "9Pr01rZX0wph"
      },
      "source": [
        "df['Diff_Bck_Estimated_Insects_Count'] = df['Estimated_Insects_Count'] - df['Estimated_Insects_Count(-1)']\n",
        "df['Diff_Fwd_Estimated_Insect_Counts'] = df['Estimated_Insects_Count'] - df['Estimated_Insects_Count(1)']\n",
        "df['Diff_1_2_Estimated_Insect_Counts'] = df['Estimated_Insects_Count(-1)'] - df['Estimated_Insects_Count(-2)']\n",
        "df['Diff_2_1_Estimated_Insect_Counts'] = df['Estimated_Insects_Count(1)'] - df['Estimated_Insects_Count(2)']\n",
        "\n",
        "df['Diff_Bck_Doses_Ratio'] = df['Doses_Ratio'] - df['Doses_Ratio(-1)']\n",
        "df['Diff_Fwd_Doses_Ratio'] = df['Doses_Ratio'] - df['Doses_Ratio(1)']\n",
        "df['Diff_1_2_Doses_Ratio'] = df['Doses_Ratio(-1)'] - df['Doses_Ratio(-2)']\n",
        "df['Diff_2_1_Doses_Ratio'] = df['Doses_Ratio(1)'] - df['Doses_Ratio(2)']\n",
        "\n",
        "df['Diff_Bck_ToT_Doses'] = df['ToT_Doses'] - df['ToT_Doses(-1)']\n",
        "df['Diff_Fwd_ToT_Doses'] = df['ToT_Doses'] - df['ToT_Doses(1)']\n",
        "df['Diff_1_2_ToT_Doses'] = df['ToT_Doses(-1)'] - df['ToT_Doses(-2)']\n",
        "df['Diff_2_1_ToT_Doses'] = df['ToT_Doses(1)'] - df['ToT_Doses(2)']\n",
        "\n",
        "df['Diff_Bck_Number_Doses_Week'] = df['Number_Doses_Week'] - df['Number_Doses_Week(-1)']\n",
        "df['Diff_Fwd_Number_Doses_Week'] = df['Number_Doses_Week'] - df['Number_Doses_Week(1)']\n",
        "df['Diff_1_2_Number_Doses_Week'] = df['Number_Doses_Week(-1)'] - df['Number_Doses_Week(-2)']\n",
        "df['Diff_2_1_Number_Doses_Week'] = df['Number_Doses_Week(1)'] - df['Number_Doses_Week(2)']"
      ],
      "execution_count": 19,
      "outputs": []
    },
    {
      "cell_type": "code",
      "metadata": {
        "id": "0e7F8Rh-40qh",
        "outputId": "53d3b9ed-d2ad-4efc-fdef-0ff5c07eaea1",
        "colab": {
          "base_uri": "https://localhost:8080/",
          "height": 1000
        }
      },
      "source": [
        "df.info()"
      ],
      "execution_count": 20,
      "outputs": [
        {
          "output_type": "stream",
          "text": [
            "<class 'pandas.core.frame.DataFrame'>\n",
            "RangeIndex: 148003 entries, 0 to 148002\n",
            "Data columns (total 58 columns):\n",
            " #   Column                            Non-Null Count   Dtype  \n",
            "---  ------                            --------------   -----  \n",
            " 0   ID                                148003 non-null  object \n",
            " 1   Estimated_Insects_Count           148003 non-null  int64  \n",
            " 2   Number_Doses_Week                 148003 non-null  int64  \n",
            " 3   Number_Weeks_Used                 133137 non-null  float64\n",
            " 4   Number_Weeks_Quit                 148003 non-null  int64  \n",
            " 5   Crop_Damage                       88693 non-null   float64\n",
            " 6   Test                              148003 non-null  int64  \n",
            " 7   CSPS                              148003 non-null  object \n",
            " 8   Doses_Ratio                       148003 non-null  float64\n",
            " 9   ToT_Doses                         133137 non-null  float64\n",
            " 10  Estimated_Insects_Count(2)        148001 non-null  float64\n",
            " 11  Estimated_Insects_Count(1)        148002 non-null  float64\n",
            " 12  Estimated_Insects_Count(-1)       148002 non-null  float64\n",
            " 13  Estimated_Insects_Count(-2)       148001 non-null  float64\n",
            " 14  Number_Doses_Week(2)              148001 non-null  float64\n",
            " 15  Number_Doses_Week(1)              148002 non-null  float64\n",
            " 16  Number_Doses_Week(-1)             148002 non-null  float64\n",
            " 17  Number_Doses_Week(-2)             148001 non-null  float64\n",
            " 18  Number_Weeks_Used(2)              133136 non-null  float64\n",
            " 19  Number_Weeks_Used(1)              133136 non-null  float64\n",
            " 20  Number_Weeks_Used(-1)             133136 non-null  float64\n",
            " 21  Number_Weeks_Used(-2)             133135 non-null  float64\n",
            " 22  Number_Weeks_Quit(2)              148001 non-null  float64\n",
            " 23  Number_Weeks_Quit(1)              148002 non-null  float64\n",
            " 24  Number_Weeks_Quit(-1)             148002 non-null  float64\n",
            " 25  Number_Weeks_Quit(-2)             148001 non-null  float64\n",
            " 26  Crop_Damage(2)                    88692 non-null   float64\n",
            " 27  Crop_Damage(1)                    88692 non-null   float64\n",
            " 28  Crop_Damage(-1)                   88692 non-null   float64\n",
            " 29  Crop_Damage(-2)                   88692 non-null   float64\n",
            " 30  CSPS(2)                           148001 non-null  object \n",
            " 31  CSPS(1)                           148002 non-null  object \n",
            " 32  CSPS(-1)                          148002 non-null  object \n",
            " 33  CSPS(-2)                          148001 non-null  object \n",
            " 34  Doses_Ratio(2)                    148001 non-null  float64\n",
            " 35  Doses_Ratio(1)                    148002 non-null  float64\n",
            " 36  Doses_Ratio(-1)                   148002 non-null  float64\n",
            " 37  Doses_Ratio(-2)                   148001 non-null  float64\n",
            " 38  ToT_Doses(2)                      133136 non-null  float64\n",
            " 39  ToT_Doses(1)                      133136 non-null  float64\n",
            " 40  ToT_Doses(-1)                     133136 non-null  float64\n",
            " 41  ToT_Doses(-2)                     133135 non-null  float64\n",
            " 42  Diff_Bck_Estimated_Insects_Count  148002 non-null  float64\n",
            " 43  Diff_Fwd_Estimated_Insect_Counts  148002 non-null  float64\n",
            " 44  Diff_1_2_Estimated_Insect_Counts  148001 non-null  float64\n",
            " 45  Diff_2_1_Estimated_Insect_Counts  148001 non-null  float64\n",
            " 46  Diff_Bck_Doses_Ratio              148002 non-null  float64\n",
            " 47  Diff_Fwd_Doses_Ratio              148002 non-null  float64\n",
            " 48  Diff_1_2_Doses_Ratio              148001 non-null  float64\n",
            " 49  Diff_2_1_Doses_Ratio              148001 non-null  float64\n",
            " 50  Diff_Bck_ToT_Doses                119747 non-null  float64\n",
            " 51  Diff_Fwd_ToT_Doses                119747 non-null  float64\n",
            " 52  Diff_1_2_ToT_Doses                119746 non-null  float64\n",
            " 53  Diff_2_1_ToT_Doses                119747 non-null  float64\n",
            " 54  Diff_Bck_Number_Doses_Week        148002 non-null  float64\n",
            " 55  Diff_Fwd_Number_Doses_Week        148002 non-null  float64\n",
            " 56  Diff_1_2_Number_Doses_Week        148001 non-null  float64\n",
            " 57  Diff_2_1_Number_Doses_Week        148001 non-null  float64\n",
            "dtypes: float64(48), int64(4), object(6)\n",
            "memory usage: 65.5+ MB\n"
          ],
          "name": "stdout"
        }
      ]
    },
    {
      "cell_type": "code",
      "metadata": {
        "id": "8txRFevTWHAJ"
      },
      "source": [
        "train = df[df['Test'] == 0]\n",
        "test = df[df['Test'] == 1]"
      ],
      "execution_count": 21,
      "outputs": []
    },
    {
      "cell_type": "code",
      "metadata": {
        "id": "jEqHCuyNWG8x",
        "outputId": "a0bd4b9b-38dc-4c5b-c2c4-f0200f580afe",
        "colab": {
          "base_uri": "https://localhost:8080/",
          "height": 111
        }
      },
      "source": [
        "cat_feat = ['CSPS',\n",
        "            'CSPS(2)', \n",
        "            'CSPS(1)', \n",
        "            'CSPS(-2)', \n",
        "            'CSPS(-1)',\n",
        "            'Crop_Damage(-1)',\n",
        "            'Crop_Damage(-2)',\n",
        "            'Crop_Damage(1)',\n",
        "            'Crop_Damage(2)'\n",
        "            ]\n",
        "\n",
        "cat_en = LeaveOneOutEncoder(cols=cat_feat, sigma=0.05, handle_missing='value')\n",
        "cat_poly = PolynomialWrapper(cat_en)\n",
        "\n",
        "train_en = cat_poly.fit_transform(train, train['Crop_Damage'])\n",
        "test_en  = cat_poly.transform(test)"
      ],
      "execution_count": 22,
      "outputs": [
        {
          "output_type": "stream",
          "text": [
            "/usr/local/lib/python3.6/dist-packages/category_encoders/utils.py:21: FutureWarning: is_categorical is deprecated and will be removed in a future version.  Use is_categorical_dtype instead\n",
            "  elif pd.api.types.is_categorical(cols):\n",
            "/usr/local/lib/python3.6/dist-packages/category_encoders/utils.py:21: FutureWarning: is_categorical is deprecated and will be removed in a future version.  Use is_categorical_dtype instead\n",
            "  elif pd.api.types.is_categorical(cols):\n"
          ],
          "name": "stderr"
        }
      ]
    },
    {
      "cell_type": "code",
      "metadata": {
        "id": "QYCMGi1WcF85",
        "outputId": "9ceb94d0-b0db-4a47-d7d6-330b90081f20",
        "colab": {
          "base_uri": "https://localhost:8080/",
          "height": 35
        }
      },
      "source": [
        "train_en.shape, test_en.shape"
      ],
      "execution_count": 23,
      "outputs": [
        {
          "output_type": "execute_result",
          "data": {
            "text/plain": [
              "((88693, 67), (59310, 67))"
            ]
          },
          "metadata": {
            "tags": []
          },
          "execution_count": 23
        }
      ]
    },
    {
      "cell_type": "code",
      "metadata": {
        "id": "iuPN1b3DcmhC"
      },
      "source": [
        "df = pd.concat([train_en, test_en], axis=0)\n",
        "df.sort_values('ID', ignore_index=True, inplace=True)"
      ],
      "execution_count": 24,
      "outputs": []
    },
    {
      "cell_type": "code",
      "metadata": {
        "id": "EJ9QpETanEvj",
        "outputId": "70fffbd9-d9c2-4b8c-c44f-c7ab13f13025",
        "colab": {
          "base_uri": "https://localhost:8080/",
          "height": 1000
        }
      },
      "source": [
        "df.info()"
      ],
      "execution_count": 25,
      "outputs": [
        {
          "output_type": "stream",
          "text": [
            "<class 'pandas.core.frame.DataFrame'>\n",
            "RangeIndex: 148003 entries, 0 to 148002\n",
            "Data columns (total 67 columns):\n",
            " #   Column                            Non-Null Count   Dtype  \n",
            "---  ------                            --------------   -----  \n",
            " 0   ID                                148003 non-null  object \n",
            " 1   Estimated_Insects_Count           148003 non-null  int64  \n",
            " 2   Number_Doses_Week                 148003 non-null  int64  \n",
            " 3   Number_Weeks_Used                 133137 non-null  float64\n",
            " 4   Number_Weeks_Quit                 148003 non-null  int64  \n",
            " 5   Crop_Damage                       88693 non-null   float64\n",
            " 6   Test                              148003 non-null  int64  \n",
            " 7   Doses_Ratio                       148003 non-null  float64\n",
            " 8   ToT_Doses                         133137 non-null  float64\n",
            " 9   Estimated_Insects_Count(2)        148001 non-null  float64\n",
            " 10  Estimated_Insects_Count(1)        148002 non-null  float64\n",
            " 11  Estimated_Insects_Count(-1)       148002 non-null  float64\n",
            " 12  Estimated_Insects_Count(-2)       148001 non-null  float64\n",
            " 13  Number_Doses_Week(2)              148001 non-null  float64\n",
            " 14  Number_Doses_Week(1)              148002 non-null  float64\n",
            " 15  Number_Doses_Week(-1)             148002 non-null  float64\n",
            " 16  Number_Doses_Week(-2)             148001 non-null  float64\n",
            " 17  Number_Weeks_Used(2)              133136 non-null  float64\n",
            " 18  Number_Weeks_Used(1)              133136 non-null  float64\n",
            " 19  Number_Weeks_Used(-1)             133136 non-null  float64\n",
            " 20  Number_Weeks_Used(-2)             133135 non-null  float64\n",
            " 21  Number_Weeks_Quit(2)              148001 non-null  float64\n",
            " 22  Number_Weeks_Quit(1)              148002 non-null  float64\n",
            " 23  Number_Weeks_Quit(-1)             148002 non-null  float64\n",
            " 24  Number_Weeks_Quit(-2)             148001 non-null  float64\n",
            " 25  Doses_Ratio(2)                    148001 non-null  float64\n",
            " 26  Doses_Ratio(1)                    148002 non-null  float64\n",
            " 27  Doses_Ratio(-1)                   148002 non-null  float64\n",
            " 28  Doses_Ratio(-2)                   148001 non-null  float64\n",
            " 29  ToT_Doses(2)                      133136 non-null  float64\n",
            " 30  ToT_Doses(1)                      133136 non-null  float64\n",
            " 31  ToT_Doses(-1)                     133136 non-null  float64\n",
            " 32  ToT_Doses(-2)                     133135 non-null  float64\n",
            " 33  Diff_Bck_Estimated_Insects_Count  148002 non-null  float64\n",
            " 34  Diff_Fwd_Estimated_Insect_Counts  148002 non-null  float64\n",
            " 35  Diff_1_2_Estimated_Insect_Counts  148001 non-null  float64\n",
            " 36  Diff_2_1_Estimated_Insect_Counts  148001 non-null  float64\n",
            " 37  Diff_Bck_Doses_Ratio              148002 non-null  float64\n",
            " 38  Diff_Fwd_Doses_Ratio              148002 non-null  float64\n",
            " 39  Diff_1_2_Doses_Ratio              148001 non-null  float64\n",
            " 40  Diff_2_1_Doses_Ratio              148001 non-null  float64\n",
            " 41  Diff_Bck_ToT_Doses                119747 non-null  float64\n",
            " 42  Diff_Fwd_ToT_Doses                119747 non-null  float64\n",
            " 43  Diff_1_2_ToT_Doses                119746 non-null  float64\n",
            " 44  Diff_2_1_ToT_Doses                119747 non-null  float64\n",
            " 45  Diff_Bck_Number_Doses_Week        148002 non-null  float64\n",
            " 46  Diff_Fwd_Number_Doses_Week        148002 non-null  float64\n",
            " 47  Diff_1_2_Number_Doses_Week        148001 non-null  float64\n",
            " 48  Diff_2_1_Number_Doses_Week        148001 non-null  float64\n",
            " 49  CSPS_1.0                          148003 non-null  float64\n",
            " 50  CSPS(2)_1.0                       148003 non-null  float64\n",
            " 51  CSPS(1)_1.0                       148003 non-null  float64\n",
            " 52  CSPS(-2)_1.0                      148003 non-null  float64\n",
            " 53  CSPS(-1)_1.0                      148003 non-null  float64\n",
            " 54  Crop_Damage(-1)_1.0               148003 non-null  float64\n",
            " 55  Crop_Damage(-2)_1.0               148003 non-null  float64\n",
            " 56  Crop_Damage(1)_1.0                148003 non-null  float64\n",
            " 57  Crop_Damage(2)_1.0                148003 non-null  float64\n",
            " 58  CSPS_2.0                          148003 non-null  float64\n",
            " 59  CSPS(2)_2.0                       148003 non-null  float64\n",
            " 60  CSPS(1)_2.0                       148003 non-null  float64\n",
            " 61  CSPS(-2)_2.0                      148003 non-null  float64\n",
            " 62  CSPS(-1)_2.0                      148003 non-null  float64\n",
            " 63  Crop_Damage(-1)_2.0               148003 non-null  float64\n",
            " 64  Crop_Damage(-2)_2.0               148003 non-null  float64\n",
            " 65  Crop_Damage(1)_2.0                148003 non-null  float64\n",
            " 66  Crop_Damage(2)_2.0                148003 non-null  float64\n",
            "dtypes: float64(62), int64(4), object(1)\n",
            "memory usage: 75.7+ MB\n"
          ],
          "name": "stdout"
        }
      ]
    },
    {
      "cell_type": "code",
      "metadata": {
        "id": "VVIDZfjf1ObZ",
        "outputId": "f0c966d9-ff09-4d65-eff7-1b85c2d46caa",
        "colab": {
          "base_uri": "https://localhost:8080/",
          "height": 1000
        }
      },
      "source": [
        "features = list(df.columns)\n",
        "features.remove('Crop_Damage')\n",
        "features.remove('ID')\n",
        "features.remove('Test')\n",
        "features"
      ],
      "execution_count": 26,
      "outputs": [
        {
          "output_type": "execute_result",
          "data": {
            "text/plain": [
              "['Estimated_Insects_Count',\n",
              " 'Number_Doses_Week',\n",
              " 'Number_Weeks_Used',\n",
              " 'Number_Weeks_Quit',\n",
              " 'Doses_Ratio',\n",
              " 'ToT_Doses',\n",
              " 'Estimated_Insects_Count(2)',\n",
              " 'Estimated_Insects_Count(1)',\n",
              " 'Estimated_Insects_Count(-1)',\n",
              " 'Estimated_Insects_Count(-2)',\n",
              " 'Number_Doses_Week(2)',\n",
              " 'Number_Doses_Week(1)',\n",
              " 'Number_Doses_Week(-1)',\n",
              " 'Number_Doses_Week(-2)',\n",
              " 'Number_Weeks_Used(2)',\n",
              " 'Number_Weeks_Used(1)',\n",
              " 'Number_Weeks_Used(-1)',\n",
              " 'Number_Weeks_Used(-2)',\n",
              " 'Number_Weeks_Quit(2)',\n",
              " 'Number_Weeks_Quit(1)',\n",
              " 'Number_Weeks_Quit(-1)',\n",
              " 'Number_Weeks_Quit(-2)',\n",
              " 'Doses_Ratio(2)',\n",
              " 'Doses_Ratio(1)',\n",
              " 'Doses_Ratio(-1)',\n",
              " 'Doses_Ratio(-2)',\n",
              " 'ToT_Doses(2)',\n",
              " 'ToT_Doses(1)',\n",
              " 'ToT_Doses(-1)',\n",
              " 'ToT_Doses(-2)',\n",
              " 'Diff_Bck_Estimated_Insects_Count',\n",
              " 'Diff_Fwd_Estimated_Insect_Counts',\n",
              " 'Diff_1_2_Estimated_Insect_Counts',\n",
              " 'Diff_2_1_Estimated_Insect_Counts',\n",
              " 'Diff_Bck_Doses_Ratio',\n",
              " 'Diff_Fwd_Doses_Ratio',\n",
              " 'Diff_1_2_Doses_Ratio',\n",
              " 'Diff_2_1_Doses_Ratio',\n",
              " 'Diff_Bck_ToT_Doses',\n",
              " 'Diff_Fwd_ToT_Doses',\n",
              " 'Diff_1_2_ToT_Doses',\n",
              " 'Diff_2_1_ToT_Doses',\n",
              " 'Diff_Bck_Number_Doses_Week',\n",
              " 'Diff_Fwd_Number_Doses_Week',\n",
              " 'Diff_1_2_Number_Doses_Week',\n",
              " 'Diff_2_1_Number_Doses_Week',\n",
              " 'CSPS_1.0',\n",
              " 'CSPS(2)_1.0',\n",
              " 'CSPS(1)_1.0',\n",
              " 'CSPS(-2)_1.0',\n",
              " 'CSPS(-1)_1.0',\n",
              " 'Crop_Damage(-1)_1.0',\n",
              " 'Crop_Damage(-2)_1.0',\n",
              " 'Crop_Damage(1)_1.0',\n",
              " 'Crop_Damage(2)_1.0',\n",
              " 'CSPS_2.0',\n",
              " 'CSPS(2)_2.0',\n",
              " 'CSPS(1)_2.0',\n",
              " 'CSPS(-2)_2.0',\n",
              " 'CSPS(-1)_2.0',\n",
              " 'Crop_Damage(-1)_2.0',\n",
              " 'Crop_Damage(-2)_2.0',\n",
              " 'Crop_Damage(1)_2.0',\n",
              " 'Crop_Damage(2)_2.0']"
            ]
          },
          "metadata": {
            "tags": []
          },
          "execution_count": 26
        }
      ]
    },
    {
      "cell_type": "code",
      "metadata": {
        "id": "ULXvZCrfEDt9"
      },
      "source": [
        "trn = df[df['Test'] == 0][features]\n",
        "lbl = df[df['Test'] == 0]['Crop_Damage']\n",
        "tst = df[df['Test'] == 1][features]"
      ],
      "execution_count": 27,
      "outputs": []
    },
    {
      "cell_type": "code",
      "metadata": {
        "id": "-yxZ4z-fTZB_"
      },
      "source": [
        "trn.fillna(-999, inplace=True)\n",
        "tst.fillna(-999, inplace=True)"
      ],
      "execution_count": 29,
      "outputs": []
    },
    {
      "cell_type": "code",
      "metadata": {
        "id": "FEbzXUXzOunO"
      },
      "source": [
        "model = DecisionTreeClassifier().fit(trn, lbl)"
      ],
      "execution_count": 34,
      "outputs": []
    },
    {
      "cell_type": "code",
      "metadata": {
        "id": "KkT4yq4tS8Rf",
        "outputId": "3465001f-9b69-472f-ff07-5a133108a771",
        "colab": {
          "base_uri": "https://localhost:8080/",
          "height": 424
        }
      },
      "source": [
        "permuter = permutation_importance(model, trn, lbl, n_jobs=-1, random_state=3)\n",
        "\n",
        "feat_importance = pd.DataFrame({'features':trn.columns, 'importance': permuter.importances_mean})\n",
        "feat_importance.sort_values(by='importance', ascending=False, inplace=True, ignore_index=True)\n",
        "feat_importance"
      ],
      "execution_count": 35,
      "outputs": [
        {
          "output_type": "execute_result",
          "data": {
            "text/html": [
              "<div>\n",
              "<style scoped>\n",
              "    .dataframe tbody tr th:only-of-type {\n",
              "        vertical-align: middle;\n",
              "    }\n",
              "\n",
              "    .dataframe tbody tr th {\n",
              "        vertical-align: top;\n",
              "    }\n",
              "\n",
              "    .dataframe thead th {\n",
              "        text-align: right;\n",
              "    }\n",
              "</style>\n",
              "<table border=\"1\" class=\"dataframe\">\n",
              "  <thead>\n",
              "    <tr style=\"text-align: right;\">\n",
              "      <th></th>\n",
              "      <th>features</th>\n",
              "      <th>importance</th>\n",
              "    </tr>\n",
              "  </thead>\n",
              "  <tbody>\n",
              "    <tr>\n",
              "      <th>0</th>\n",
              "      <td>Crop_Damage(1)_1.0</td>\n",
              "      <td>0.084036</td>\n",
              "    </tr>\n",
              "    <tr>\n",
              "      <th>1</th>\n",
              "      <td>Crop_Damage(-1)_1.0</td>\n",
              "      <td>0.077972</td>\n",
              "    </tr>\n",
              "    <tr>\n",
              "      <th>2</th>\n",
              "      <td>Diff_Bck_Number_Doses_Week</td>\n",
              "      <td>0.074996</td>\n",
              "    </tr>\n",
              "    <tr>\n",
              "      <th>3</th>\n",
              "      <td>Diff_Fwd_Number_Doses_Week</td>\n",
              "      <td>0.069446</td>\n",
              "    </tr>\n",
              "    <tr>\n",
              "      <th>4</th>\n",
              "      <td>Diff_Fwd_Estimated_Insect_Counts</td>\n",
              "      <td>0.044409</td>\n",
              "    </tr>\n",
              "    <tr>\n",
              "      <th>...</th>\n",
              "      <td>...</td>\n",
              "      <td>...</td>\n",
              "    </tr>\n",
              "    <tr>\n",
              "      <th>59</th>\n",
              "      <td>Estimated_Insects_Count(-2)</td>\n",
              "      <td>0.001434</td>\n",
              "    </tr>\n",
              "    <tr>\n",
              "      <th>60</th>\n",
              "      <td>Estimated_Insects_Count(-1)</td>\n",
              "      <td>0.001130</td>\n",
              "    </tr>\n",
              "    <tr>\n",
              "      <th>61</th>\n",
              "      <td>Number_Weeks_Quit(2)</td>\n",
              "      <td>0.001067</td>\n",
              "    </tr>\n",
              "    <tr>\n",
              "      <th>62</th>\n",
              "      <td>Number_Weeks_Quit(-1)</td>\n",
              "      <td>0.000965</td>\n",
              "    </tr>\n",
              "    <tr>\n",
              "      <th>63</th>\n",
              "      <td>Number_Doses_Week(2)</td>\n",
              "      <td>0.000503</td>\n",
              "    </tr>\n",
              "  </tbody>\n",
              "</table>\n",
              "<p>64 rows × 2 columns</p>\n",
              "</div>"
            ],
            "text/plain": [
              "                            features  importance\n",
              "0                 Crop_Damage(1)_1.0    0.084036\n",
              "1                Crop_Damage(-1)_1.0    0.077972\n",
              "2         Diff_Bck_Number_Doses_Week    0.074996\n",
              "3         Diff_Fwd_Number_Doses_Week    0.069446\n",
              "4   Diff_Fwd_Estimated_Insect_Counts    0.044409\n",
              "..                               ...         ...\n",
              "59       Estimated_Insects_Count(-2)    0.001434\n",
              "60       Estimated_Insects_Count(-1)    0.001130\n",
              "61              Number_Weeks_Quit(2)    0.001067\n",
              "62             Number_Weeks_Quit(-1)    0.000965\n",
              "63              Number_Doses_Week(2)    0.000503\n",
              "\n",
              "[64 rows x 2 columns]"
            ]
          },
          "metadata": {
            "tags": []
          },
          "execution_count": 35
        }
      ]
    },
    {
      "cell_type": "code",
      "metadata": {
        "id": "7O-uGufjUUJe",
        "outputId": "019d7661-4fe4-4c16-df78-62931714db75",
        "colab": {
          "base_uri": "https://localhost:8080/",
          "height": 719
        }
      },
      "source": [
        "sel = feat_importance[feat_importance['importance'] >= 0.7*feat_importance['importance'].median()]\n",
        "selected = sel['features'].to_list()\n",
        "selected"
      ],
      "execution_count": 36,
      "outputs": [
        {
          "output_type": "execute_result",
          "data": {
            "text/plain": [
              "['Crop_Damage(1)_1.0',\n",
              " 'Crop_Damage(-1)_1.0',\n",
              " 'Diff_Bck_Number_Doses_Week',\n",
              " 'Diff_Fwd_Number_Doses_Week',\n",
              " 'Diff_Fwd_Estimated_Insect_Counts',\n",
              " 'Diff_Bck_Estimated_Insects_Count',\n",
              " 'Diff_Bck_Doses_Ratio',\n",
              " 'CSPS_1.0',\n",
              " 'Crop_Damage(-2)_2.0',\n",
              " 'Number_Doses_Week',\n",
              " 'Doses_Ratio',\n",
              " 'Crop_Damage(-1)_2.0',\n",
              " 'Diff_1_2_ToT_Doses',\n",
              " 'CSPS_2.0',\n",
              " 'CSPS(-2)_1.0',\n",
              " 'Diff_2_1_Number_Doses_Week',\n",
              " 'Diff_1_2_Doses_Ratio',\n",
              " 'Doses_Ratio(1)',\n",
              " 'Diff_Bck_ToT_Doses',\n",
              " 'Doses_Ratio(2)',\n",
              " 'Diff_Fwd_Doses_Ratio',\n",
              " 'Crop_Damage(2)_1.0',\n",
              " 'Doses_Ratio(-1)',\n",
              " 'CSPS(-1)_2.0',\n",
              " 'CSPS(1)_1.0',\n",
              " 'Crop_Damage(-2)_1.0',\n",
              " 'Doses_Ratio(-2)',\n",
              " 'Crop_Damage(1)_2.0',\n",
              " 'CSPS(-1)_1.0',\n",
              " 'CSPS(2)_2.0',\n",
              " 'ToT_Doses',\n",
              " 'Number_Doses_Week(-2)',\n",
              " 'CSPS(1)_2.0',\n",
              " 'Diff_2_1_ToT_Doses',\n",
              " 'Diff_1_2_Number_Doses_Week',\n",
              " 'Diff_2_1_Estimated_Insect_Counts',\n",
              " 'Number_Doses_Week(-1)',\n",
              " 'CSPS(2)_1.0']"
            ]
          },
          "metadata": {
            "tags": []
          },
          "execution_count": 36
        }
      ]
    },
    {
      "cell_type": "code",
      "metadata": {
        "id": "CdKePznGlcTs",
        "outputId": "694f990a-e3d0-4df2-c3bf-9d39caa1563c",
        "colab": {
          "base_uri": "https://localhost:8080/",
          "height": 239
        }
      },
      "source": [
        "#model = LGBMClassifier(subsample=0.5, subsample_freq=1, colsample_by_node=0.5, random_state=3)\n",
        "model = DecisionTreeClassifier(random_state=3)\n",
        "rfecv = RFECV(estimator=model, step=1, cv=StratifiedKFold(5), scoring='accuracy', n_jobs=-1)\n",
        "\n",
        "rfecv.fit(trn, lbl)"
      ],
      "execution_count": 90,
      "outputs": [
        {
          "output_type": "execute_result",
          "data": {
            "text/plain": [
              "RFECV(cv=StratifiedKFold(n_splits=5, random_state=None, shuffle=False),\n",
              "      estimator=DecisionTreeClassifier(ccp_alpha=0.0, class_weight=None,\n",
              "                                       criterion='gini', max_depth=None,\n",
              "                                       max_features=None, max_leaf_nodes=None,\n",
              "                                       min_impurity_decrease=0.0,\n",
              "                                       min_impurity_split=None,\n",
              "                                       min_samples_leaf=1, min_samples_split=2,\n",
              "                                       min_weight_fraction_leaf=0.0,\n",
              "                                       presort='deprecated', random_state=3,\n",
              "                                       splitter='best'),\n",
              "      min_features_to_select=1, n_jobs=-1, scoring='accuracy', step=1,\n",
              "      verbose=0)"
            ]
          },
          "metadata": {
            "tags": []
          },
          "execution_count": 90
        }
      ]
    },
    {
      "cell_type": "code",
      "metadata": {
        "id": "iobGcqo_ZOLe",
        "outputId": "2a8f4e69-01c1-409a-ceb5-bb08260612c1",
        "colab": {
          "base_uri": "https://localhost:8080/",
          "height": 312
        }
      },
      "source": [
        "selected = rfecv.support_\n",
        "selected = np.array(features)[selected]\n",
        "selected"
      ],
      "execution_count": 91,
      "outputs": [
        {
          "output_type": "execute_result",
          "data": {
            "text/plain": [
              "array(['Estimated_Insects_Count', 'Number_Doses_Week', 'Doses_Ratio',\n",
              "       'ToT_Doses', 'Number_Weeks_Used(1)', 'Number_Weeks_Used(-1)',\n",
              "       'Doses_Ratio(2)', 'Doses_Ratio(1)', 'Doses_Ratio(-1)',\n",
              "       'Doses_Ratio(-2)', 'Diff_Bck_Estimated_Insects_Count',\n",
              "       'Diff_Fwd_Estimated_Insect_Counts',\n",
              "       'Diff_1_2_Estimated_Insect_Counts',\n",
              "       'Diff_2_1_Estimated_Insect_Counts', 'Diff_Bck_Doses_Ratio',\n",
              "       'Diff_Fwd_Doses_Ratio', 'Diff_1_2_Doses_Ratio',\n",
              "       'Diff_Bck_ToT_Doses', 'Diff_1_2_ToT_Doses', 'Diff_2_1_ToT_Doses',\n",
              "       'Diff_Bck_Number_Doses_Week', 'Diff_Fwd_Number_Doses_Week',\n",
              "       'Diff_2_1_Number_Doses_Week', 'CSPS_1.0', 'CSPS(1)_1.0',\n",
              "       'CSPS(-2)_1.0', 'CSPS(-1)_1.0', 'Crop_Damage(-1)_1.0',\n",
              "       'Crop_Damage(-2)_1.0', 'Crop_Damage(1)_1.0', 'Crop_Damage(2)_1.0',\n",
              "       'CSPS_2.0', 'CSPS(2)_2.0', 'CSPS(1)_2.0', 'CSPS(-2)_2.0',\n",
              "       'CSPS(-1)_2.0', 'Crop_Damage(-1)_2.0', 'Crop_Damage(-2)_2.0',\n",
              "       'Crop_Damage(1)_2.0', 'Crop_Damage(2)_2.0'], dtype='<U32')"
            ]
          },
          "metadata": {
            "tags": []
          },
          "execution_count": 91
        }
      ]
    },
    {
      "cell_type": "code",
      "metadata": {
        "id": "ul7P9TxNcmNJ",
        "outputId": "267288e0-af5a-4cda-e80e-5f6988ff698b",
        "colab": {
          "base_uri": "https://localhost:8080/",
          "height": 35
        }
      },
      "source": [
        "X_trn, y_trn = trn[selected].to_numpy(), lbl.to_numpy()\n",
        "X_tst = tst[selected].to_numpy()\n",
        "\n",
        "X_trn.shape, y_trn.shape, X_tst.shape"
      ],
      "execution_count": 92,
      "outputs": [
        {
          "output_type": "execute_result",
          "data": {
            "text/plain": [
              "((88693, 40), (88693,), (59310, 40))"
            ]
          },
          "metadata": {
            "tags": []
          },
          "execution_count": 92
        }
      ]
    },
    {
      "cell_type": "code",
      "metadata": {
        "id": "YTOFqkz4XGJY"
      },
      "source": [
        "est = LGBMClassifier(boosting_type='gbdt',\n",
        "                     random_state=3,\n",
        "                     subsample_freq=1, \n",
        "                     max_depth=-1, \n",
        "                     min_child_samples=1,\n",
        "                     #class_weight='balanced',\n",
        "                     #device='cpu',\n",
        "                     n_estimators=2500,\n",
        "                     colsample_by_node=0.5,\n",
        "                     subsample=0.5,\n",
        "                     #colsample_by_tree=1/np.sqrt(len(features)),\n",
        "                     #subsample=0.6,\n",
        "                     #class_weight={0: 1, 1: 1, 2: 1}\n",
        "                     )"
      ],
      "execution_count": 110,
      "outputs": []
    },
    {
      "cell_type": "code",
      "metadata": {
        "id": "yfmWfN0bXrLw"
      },
      "source": [
        "space = {'learning_rate': hp.qloguniform('learning_rate', np.log(0.01), np.log(0.3), 0.01),\n",
        "         #'max_depth': hp.quniform('max_depth', 1, 16, 1),\n",
        "         'min_child_weight': hp.quniform('min_child_weight', 0.1, 10, 0.01),\n",
        "         #'min_child_samples': hp.quniform('min_child_samples', 1, 50, 1),\n",
        "         #'n_estimators': hp.quniform('n_estimators', 100, 1000, 10),\n",
        "         'num_leaves': hp.quniform('num_leaves', 2, 256, 2),\n",
        "         'class_weight': hp.choice('class_weight',[None, 'balanced']),\n",
        "         #'subsample': hp.quniform('subsample', 0.3, 1, 0.1),\n",
        "         #'colsample_by_tree': hp.quniform('colsample_by_tree', 0.3, 1, 0.05),\n",
        "         #'colsample_by_node': hp.quniform('colsample_by_node', 0.3, 1, 0.1),\n",
        "         'reg_alpha': hp.quniform('reg_alpha', 0.1, 5, 0.1),\n",
        "         'reg_lambda': hp.quniform('reg_lambda', 0.1, 5, 0.1),\n",
        "         #'min_split_gain': hp.quniform('min_split_gain', 0.01, 2, 0.001)\n",
        "         }"
      ],
      "execution_count": 67,
      "outputs": []
    },
    {
      "cell_type": "code",
      "metadata": {
        "id": "OEC6a3vTXGJx"
      },
      "source": [
        "def evaluate(estimator, params, data, label, cv=True):\n",
        "\n",
        "    params['num_leaves'] = int(params['num_leaves'])\n",
        "    #params['n_estimators'] = int(params['n_estimators'])\n",
        "    #params['min_child_samples'] = int(params['min_child_samples'])\n",
        "    #params['max_depth'] = int(params['max_depth'])\n",
        "\n",
        "    estimator.set_params(**params)\n",
        "\n",
        "    if cv:\n",
        "        cv = StratifiedKFold(n_splits=5)\n",
        "        cv_scores = []\n",
        "\n",
        "        for in_idx, out_idx in cv.split(data, label):\n",
        "            X_in, X_out = data[in_idx], data[out_idx]\n",
        "            y_in, y_out = label[in_idx], label[out_idx]\n",
        "\n",
        "            estimator.fit(X_in, \n",
        "                          y_in, \n",
        "                          eval_set=[(X_out, y_out)],\n",
        "                          early_stopping_rounds=50,\n",
        "                          verbose=False)\n",
        "            \n",
        "            \n",
        "            y_pred = estimator.predict(X_out)\n",
        "            \n",
        "            cv_scores.append(accuracy_score(y_out, y_pred))\n",
        "\n",
        "\n",
        "        \n",
        "        scores = -np.mean(cv_scores)\n",
        "        #scores = (1-np.amin(scores))/np.amax(scores)\n",
        "        #scores = (1-np.mean(scores))/np.amax(scores)\n",
        "\n",
        "    return scores"
      ],
      "execution_count": 133,
      "outputs": []
    },
    {
      "cell_type": "code",
      "metadata": {
        "id": "L6rzFbsuXGJ-"
      },
      "source": [
        "objective = lambda params: evaluate(est, \n",
        "                                    params,\n",
        "                                    X_trn,\n",
        "                                    y_trn,\n",
        "                                    cv=True)"
      ],
      "execution_count": 69,
      "outputs": []
    },
    {
      "cell_type": "code",
      "metadata": {
        "id": "YwmqWxb2XGKH"
      },
      "source": [
        "def optimize(n_evals, space, objective):\n",
        "\n",
        "    algo = partial(tpe.suggest, n_startup_jobs=25, n_EI_candidates=24, gamma=0.25)\n",
        "                   \n",
        "    trials = Trials()\n",
        "\n",
        "    best_params = fmin(fn=objective, \n",
        "                       space=space, \n",
        "                       algo=algo, \n",
        "                       max_evals=n_evals, \n",
        "                       trials=trials)\n",
        "    \n",
        "    return best_params"
      ],
      "execution_count": 70,
      "outputs": []
    },
    {
      "cell_type": "code",
      "metadata": {
        "id": "mHWyZUqJZWJ7",
        "outputId": "0ae9830c-7599-451d-97fe-ae0044a4ca5d",
        "colab": {
          "base_uri": "https://localhost:8080/",
          "height": 35
        }
      },
      "source": [
        "best = optimize(100, space, objective)"
      ],
      "execution_count": null,
      "outputs": [
        {
          "output_type": "stream",
          "text": [
            "100%|██████████| 100/100 [10:15:45<00:00, 369.45s/it, best loss: -0.9668519480526413]\n"
          ],
          "name": "stdout"
        }
      ]
    },
    {
      "cell_type": "code",
      "metadata": {
        "id": "b6LbtASEZWKS",
        "outputId": "425a79fe-905c-4153-fd6b-20b4dec2361e",
        "colab": {
          "base_uri": "https://localhost:8080/",
          "height": 128
        }
      },
      "source": [
        "#best['max_depth'] = int(best['max_depth'])\n",
        "#best['n_estimators'] = int(best['n_estimators'])\n",
        "#best['min_child_samples'] = int(best['min_child_samples'])\n",
        "best['class_weight'] = None if best['class_weight'] == 0 else 'balanced'\n",
        "best['num_leaves'] = int(best['num_leaves'])\n",
        "\n",
        "best"
      ],
      "execution_count": null,
      "outputs": [
        {
          "output_type": "execute_result",
          "data": {
            "text/plain": [
              "{'class_weight': None,\n",
              " 'learning_rate': 0.01,\n",
              " 'min_child_weight': 4.74,\n",
              " 'num_leaves': 20,\n",
              " 'reg_alpha': 1.74,\n",
              " 'reg_lambda': 2.06}"
            ]
          },
          "metadata": {
            "tags": []
          },
          "execution_count": 41
        }
      ]
    },
    {
      "cell_type": "code",
      "metadata": {
        "id": "AvZaGT7H_9pN"
      },
      "source": [
        "best = {'class_weight': None,\n",
        "        'learning_rate': 0.01,\n",
        "        'min_child_weight': 4.74,\n",
        "        'num_leaves': 20,\n",
        "        'reg_alpha': 1.74,\n",
        "        'reg_lambda': 2.06}"
      ],
      "execution_count": 107,
      "outputs": []
    },
    {
      "cell_type": "code",
      "metadata": {
        "id": "SUquGaiDiKnC"
      },
      "source": [
        "X_train, X_dev, y_train, y_dev = train_test_split(X_trn, \n",
        "                                                  y_trn, \n",
        "                                                  train_size=0.80, \n",
        "                                                  stratify=y_trn, \n",
        "                                                  random_state=3,\n",
        "                                                  )"
      ],
      "execution_count": 72,
      "outputs": []
    },
    {
      "cell_type": "code",
      "metadata": {
        "id": "aWOlZ_I0h8Tq",
        "outputId": "5cbaa8de-5a47-4572-d64d-9422d4af7d31",
        "colab": {
          "base_uri": "https://localhost:8080/",
          "height": 146
        }
      },
      "source": [
        "est.set_params(**best)"
      ],
      "execution_count": 111,
      "outputs": [
        {
          "output_type": "execute_result",
          "data": {
            "text/plain": [
              "LGBMClassifier(boosting_type='gbdt', class_weight=None, colsample_by_node=0.5,\n",
              "               colsample_bytree=1.0, importance_type='split',\n",
              "               learning_rate=0.01, max_depth=-1, min_child_samples=1,\n",
              "               min_child_weight=4.74, min_split_gain=0.0, n_estimators=2500,\n",
              "               n_jobs=-1, num_leaves=20, objective=None, random_state=3,\n",
              "               reg_alpha=1.74, reg_lambda=2.06, silent=True, subsample=0.5,\n",
              "               subsample_for_bin=200000, subsample_freq=1)"
            ]
          },
          "metadata": {
            "tags": []
          },
          "execution_count": 111
        }
      ]
    },
    {
      "cell_type": "code",
      "metadata": {
        "id": "B3VHYHutY3jP"
      },
      "source": [
        "cv = StratifiedKFold(n_splits=5)\n",
        "cv_estimators = []\n",
        "\n",
        "for in_idx, out_idx in cv.split(X_trn, y_trn):\n",
        "    X_in, X_out = X_trn[in_idx], X_trn[out_idx]\n",
        "    y_in, y_out = y_trn[in_idx], y_trn[out_idx]\n",
        "\n",
        "    est.fit(X_in, \n",
        "            y_in, \n",
        "            eval_set=[(X_out, y_out)],\n",
        "            early_stopping_rounds=100,\n",
        "            verbose=False)\n",
        "            \n",
        "    cv_estimators.append(est.best_iteration_)"
      ],
      "execution_count": 112,
      "outputs": []
    },
    {
      "cell_type": "code",
      "metadata": {
        "id": "7rgz2iGEtqpU",
        "outputId": "6f6216c3-d588-4aaa-901d-afbf759f837a",
        "colab": {
          "base_uri": "https://localhost:8080/",
          "height": 35
        }
      },
      "source": [
        "cv_estimators"
      ],
      "execution_count": 113,
      "outputs": [
        {
          "output_type": "execute_result",
          "data": {
            "text/plain": [
              "[2499, 2327, 2500, 2499, 2500]"
            ]
          },
          "metadata": {
            "tags": []
          },
          "execution_count": 113
        }
      ]
    },
    {
      "cell_type": "code",
      "metadata": {
        "id": "aHNJillrtX-b",
        "outputId": "47bf061d-2c49-46e0-ac3a-f19e3bab836e",
        "colab": {
          "base_uri": "https://localhost:8080/",
          "height": 146
        }
      },
      "source": [
        "best['n_estimators'] = np.mean(cv_estimators, dtype=np.int16)\n",
        "\n",
        "est.set_params(**best)"
      ],
      "execution_count": 125,
      "outputs": [
        {
          "output_type": "execute_result",
          "data": {
            "text/plain": [
              "LGBMClassifier(boosting_type='gbdt', class_weight=None, colsample_by_node=0.5,\n",
              "               colsample_bytree=1.0, importance_type='split',\n",
              "               learning_rate=0.01, max_depth=-1, min_child_samples=1,\n",
              "               min_child_weight=4.74, min_split_gain=0.0, n_estimators=2465,\n",
              "               n_jobs=-1, num_leaves=20, objective=None, random_state=3,\n",
              "               reg_alpha=1.74, reg_lambda=2.06, silent=True, subsample=0.5,\n",
              "               subsample_for_bin=200000, subsample_freq=1)"
            ]
          },
          "metadata": {
            "tags": []
          },
          "execution_count": 125
        }
      ]
    },
    {
      "cell_type": "code",
      "metadata": {
        "id": "Mcrf8C4f1wVm",
        "outputId": "c34ccddb-addb-4f9a-86df-a71b752d03cc",
        "colab": {
          "base_uri": "https://localhost:8080/",
          "height": 146
        }
      },
      "source": [
        "est.fit(X_trn, \n",
        "        y_trn,\n",
        "        feature_name=list(selected)\n",
        "        )"
      ],
      "execution_count": 126,
      "outputs": [
        {
          "output_type": "execute_result",
          "data": {
            "text/plain": [
              "LGBMClassifier(boosting_type='gbdt', class_weight=None, colsample_by_node=0.5,\n",
              "               colsample_bytree=1.0, importance_type='split',\n",
              "               learning_rate=0.01, max_depth=-1, min_child_samples=1,\n",
              "               min_child_weight=4.74, min_split_gain=0.0, n_estimators=2465,\n",
              "               n_jobs=-1, num_leaves=20, objective=None, random_state=3,\n",
              "               reg_alpha=1.74, reg_lambda=2.06, silent=True, subsample=0.5,\n",
              "               subsample_for_bin=200000, subsample_freq=1)"
            ]
          },
          "metadata": {
            "tags": []
          },
          "execution_count": 126
        }
      ]
    },
    {
      "cell_type": "code",
      "metadata": {
        "id": "PbX1BFr_gFXe",
        "outputId": "71d73b8e-7b16-4ae0-bea5-33bed6eebcd9",
        "colab": {
          "base_uri": "https://localhost:8080/",
          "height": 35
        }
      },
      "source": [
        "est.score(X_trn, y_trn)"
      ],
      "execution_count": 134,
      "outputs": [
        {
          "output_type": "execute_result",
          "data": {
            "text/plain": [
              "0.9833357762168379"
            ]
          },
          "metadata": {
            "tags": []
          },
          "execution_count": 134
        }
      ]
    },
    {
      "cell_type": "code",
      "metadata": {
        "id": "0b5Mzu-Oh8UU",
        "outputId": "2cb40779-d73f-4a9d-ff26-1ea75fb5745e",
        "colab": {
          "base_uri": "https://localhost:8080/",
          "height": 279
        }
      },
      "source": [
        "plot_confusion_matrix(est, X_trn, y_trn, normalize=None)\n",
        "plt.show()"
      ],
      "execution_count": 135,
      "outputs": [
        {
          "output_type": "display_data",
          "data": {
            "image/png": "[encoded data removed]",
            "text/plain": [
              "<Figure size 432x288 with 2 Axes>"
            ]
          },
          "metadata": {
            "tags": [],
            "needs_background": "light"
          }
        }
      ]
    },
    {
      "cell_type": "code",
      "metadata": {
        "id": "0ymWba07Oq_X",
        "outputId": "901e1661-9d54-4455-d19e-b43891ab54e5",
        "colab": {
          "base_uri": "https://localhost:8080/",
          "height": 621
        }
      },
      "source": [
        "plot_importance(est, figsize=(13,10))\n",
        "plt.show()"
      ],
      "execution_count": 128,
      "outputs": [
        {
          "output_type": "display_data",
          "data": {
            "image/png": "[encoded data removed]",
            "text/plain": [
              "<Figure size 936x720 with 1 Axes>"
            ]
          },
          "metadata": {
            "tags": [],
            "needs_background": "light"
          }
        }
      ]
    },
    {
      "cell_type": "code",
      "metadata": {
        "id": "qjh-PfBYC5QV"
      },
      "source": [
        "predicted = est.predict(X_tst)"
      ],
      "execution_count": 129,
      "outputs": []
    },
    {
      "cell_type": "code",
      "metadata": {
        "id": "e-n5guFfEVO-",
        "outputId": "1649ffbb-798d-413d-d144-31ad6f7c6494",
        "colab": {
          "base_uri": "https://localhost:8080/",
          "height": 35
        }
      },
      "source": [
        "Counter(predicted)"
      ],
      "execution_count": 130,
      "outputs": [
        {
          "output_type": "execute_result",
          "data": {
            "text/plain": [
              "Counter({0.0: 49878, 1.0: 8426, 2.0: 1006})"
            ]
          },
          "metadata": {
            "tags": []
          },
          "execution_count": 130
        }
      ]
    },
    {
      "cell_type": "code",
      "metadata": {
        "id": "zstvZHktcmHc"
      },
      "source": [
        "df_sub['ID'] = df_tst['ID']\n",
        "df_sub['Crop_Damage'] = predicted"
      ],
      "execution_count": 131,
      "outputs": []
    },
    {
      "cell_type": "code",
      "metadata": {
        "id": "8FBBbOwkhms3"
      },
      "source": [
        "df_sub.to_csv('submission_sel.csv', index=False, )"
      ],
      "execution_count": 132,
      "outputs": []
    },
    {
      "cell_type": "code",
      "metadata": {
        "id": "kkDkTfTEC4bW"
      },
      "source": [
        ""
      ],
      "execution_count": null,
      "outputs": []
    },
    {
      "cell_type": "code",
      "metadata": {
        "id": "j6RLNbMVqTJS"
      },
      "source": [
        "bag = BaggingClassifier(base_estimator=est, \n",
        "                        max_samples=1.0, \n",
        "                        max_features=1.0,\n",
        "                        n_estimators=10, \n",
        "                        oob_score=False,\n",
        "                        warm_start=True, \n",
        "                        n_jobs=-1,\n",
        "                        bootstrap=True)"
      ],
      "execution_count": 84,
      "outputs": []
    },
    {
      "cell_type": "code",
      "metadata": {
        "id": "wakRPOKiqTB0",
        "outputId": "051a069c-2ab9-447d-b241-baeea81c2312",
        "colab": {
          "base_uri": "https://localhost:8080/",
          "height": 386
        }
      },
      "source": [
        "bag.fit(X_trn, y_trn)"
      ],
      "execution_count": 85,
      "outputs": [
        {
          "output_type": "execute_result",
          "data": {
            "text/plain": [
              "BaggingClassifier(base_estimator=LGBMClassifier(boosting_type='gbdt',\n",
              "                                                class_weight=None,\n",
              "                                                colsample_by_node=0.5,\n",
              "                                                colsample_bytree=1.0,\n",
              "                                                importance_type='split',\n",
              "                                                learning_rate=0.01,\n",
              "                                                max_depth=-1,\n",
              "                                                min_child_samples=1,\n",
              "                                                min_child_weight=4.74,\n",
              "                                                min_split_gain=0.0,\n",
              "                                                n_estimators=2000, n_jobs=-1,\n",
              "                                                num_leaves=20, objective=None,\n",
              "                                                random_state=3, reg_alpha=1.74,\n",
              "                                                reg_lambda=2.06, silent=True,\n",
              "                                                subsample=0.5,\n",
              "                                                subsample_for_bin=200000,\n",
              "                                                subsample_freq=1),\n",
              "                  bootstrap=True, bootstrap_features=False, max_features=1.0,\n",
              "                  max_samples=1.0, n_estimators=10, n_jobs=-1, oob_score=False,\n",
              "                  random_state=None, verbose=0, warm_start=True)"
            ]
          },
          "metadata": {
            "tags": []
          },
          "execution_count": 85
        }
      ]
    },
    {
      "cell_type": "code",
      "metadata": {
        "id": "UE3XshWxqS5P",
        "outputId": "fd0f9a8a-c756-4d34-c461-5289f78f6b0b",
        "colab": {
          "base_uri": "https://localhost:8080/",
          "height": 35
        }
      },
      "source": [
        "bag.oob_score_"
      ],
      "execution_count": null,
      "outputs": [
        {
          "output_type": "execute_result",
          "data": {
            "text/plain": [
              "0.9634923135789687"
            ]
          },
          "metadata": {
            "tags": []
          },
          "execution_count": 75
        }
      ]
    },
    {
      "cell_type": "code",
      "metadata": {
        "id": "Z8ZEh2JlqSv9"
      },
      "source": [
        "bag_prediction = bag.predict(X_tst)"
      ],
      "execution_count": 86,
      "outputs": []
    },
    {
      "cell_type": "code",
      "metadata": {
        "id": "Q98FMn0Ahmmp",
        "outputId": "0a66cc6e-5720-4648-a2ee-bf6167e5281c",
        "colab": {
          "base_uri": "https://localhost:8080/",
          "height": 35
        }
      },
      "source": [
        "Counter(bag_prediction)"
      ],
      "execution_count": 87,
      "outputs": [
        {
          "output_type": "execute_result",
          "data": {
            "text/plain": [
              "Counter({0.0: 49905, 1.0: 8470, 2.0: 935})"
            ]
          },
          "metadata": {
            "tags": []
          },
          "execution_count": 87
        }
      ]
    },
    {
      "cell_type": "code",
      "metadata": {
        "id": "M_5iXO-dyjpO"
      },
      "source": [
        "df_sub['ID'] = df_tst['ID']\n",
        "df_sub['Crop_Damage'] = bag_prediction"
      ],
      "execution_count": 88,
      "outputs": []
    },
    {
      "cell_type": "code",
      "metadata": {
        "id": "n1CW-04jyjpr"
      },
      "source": [
        "df_sub.to_csv('submission_sel_bag.csv', index=False)"
      ],
      "execution_count": 89,
      "outputs": []
    },
    {
      "cell_type": "code",
      "metadata": {
        "id": "g6UUoFj_hmiy"
      },
      "source": [
        ""
      ],
      "execution_count": null,
      "outputs": []
    },
    {
      "cell_type": "code",
      "metadata": {
        "id": "sxxmY0w8a7qT"
      },
      "source": [
        "rf = RandomForestClassifier(n_estimators=200, oob_score=True, n_jobs=-1, random_state=3)"
      ],
      "execution_count": null,
      "outputs": []
    },
    {
      "cell_type": "code",
      "metadata": {
        "id": "ZjxmRN-5a7lm",
        "outputId": "c46e9e25-7941-4197-a50b-5545eca5b6c9",
        "colab": {
          "base_uri": "https://localhost:8080/",
          "height": 165
        }
      },
      "source": [
        "rf.fit(X_trn, y_trn)"
      ],
      "execution_count": null,
      "outputs": [
        {
          "output_type": "execute_result",
          "data": {
            "text/plain": [
              "RandomForestClassifier(bootstrap=True, ccp_alpha=0.0, class_weight=None,\n",
              "                       criterion='gini', max_depth=None, max_features='auto',\n",
              "                       max_leaf_nodes=None, max_samples=None,\n",
              "                       min_impurity_decrease=0.0, min_impurity_split=None,\n",
              "                       min_samples_leaf=1, min_samples_split=2,\n",
              "                       min_weight_fraction_leaf=0.0, n_estimators=200,\n",
              "                       n_jobs=-1, oob_score=True, random_state=3, verbose=0,\n",
              "                       warm_start=False)"
            ]
          },
          "metadata": {
            "tags": []
          },
          "execution_count": 83
        }
      ]
    },
    {
      "cell_type": "code",
      "metadata": {
        "id": "JN4zGDcXa7i6",
        "outputId": "65c40b0e-e2ec-419a-f530-6d8074d91920",
        "colab": {
          "base_uri": "https://localhost:8080/",
          "height": 35
        }
      },
      "source": [
        "rf.oob_score_"
      ],
      "execution_count": null,
      "outputs": [
        {
          "output_type": "execute_result",
          "data": {
            "text/plain": [
              "0.9607688671813455"
            ]
          },
          "metadata": {
            "tags": []
          },
          "execution_count": 84
        }
      ]
    },
    {
      "cell_type": "code",
      "metadata": {
        "id": "taBl0YSRa7gY"
      },
      "source": [
        ""
      ],
      "execution_count": null,
      "outputs": []
    },
    {
      "cell_type": "code",
      "metadata": {
        "id": "dQARFVqGa7dN"
      },
      "source": [
        ""
      ],
      "execution_count": null,
      "outputs": []
    },
    {
      "cell_type": "code",
      "metadata": {
        "id": "vo6XEWp5cl_P"
      },
      "source": [
        ""
      ],
      "execution_count": null,
      "outputs": []
    },
    {
      "cell_type": "code",
      "metadata": {
        "id": "j9EOKBuo1xvS"
      },
      "source": [
        ""
      ],
      "execution_count": null,
      "outputs": []
    }
  ]
}
